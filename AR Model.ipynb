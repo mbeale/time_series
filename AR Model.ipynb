{
 "cells": [
  {
   "cell_type": "markdown",
   "metadata": {},
   "source": [
    "deep dive on AR modeling\n",
    "\n",
    "*  explain ϕ parameter (0.9, -0.9)\n",
    "*  use ACF to explain\n",
    "* Compare the ACF for Several AR Time Series\n",
    "*  Explain autoregressive formula\n",
    "* estimating and forecasting\n",
    "* analyzing results\n",
    "* mean reverting\n",
    "* pacf\n",
    "* information criteria (AIC, BIC)"
   ]
  }
 ],
 "metadata": {
  "kernelspec": {
   "display_name": "Python 3",
   "language": "python",
   "name": "python3"
  },
  "language_info": {
   "codemirror_mode": {
    "name": "ipython",
    "version": 3
   },
   "file_extension": ".py",
   "mimetype": "text/x-python",
   "name": "python",
   "nbconvert_exporter": "python",
   "pygments_lexer": "ipython3",
   "version": "3.6.1"
  }
 },
 "nbformat": 4,
 "nbformat_minor": 2
}
