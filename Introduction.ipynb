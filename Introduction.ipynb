{
 "cells": [
  {
   "cell_type": "markdown",
   "metadata": {},
   "source": [
    "# Introduction"
   ]
  },
  {
   "cell_type": "markdown",
   "metadata": {},
   "source": [
    "This collection of notebooks is designed to explain the use of python tools to analyze and model time series without the the need to understand all the math involved. This is a one stop place for me personally to store any notes or ideas I come accross while investigating time series."
   ]
  },
  {
   "cell_type": "markdown",
   "metadata": {},
   "source": [
    "## Requirements"
   ]
  },
  {
   "cell_type": "markdown",
   "metadata": {},
   "source": [
    "Version 4.3.1 of [Anaconda](https://www.continuum.io/downloads) and Python 3.6 were used in the creation of this notebook."
   ]
  },
  {
   "cell_type": "markdown",
   "metadata": {},
   "source": [
    "## What these notebooks will not explain"
   ]
  },
  {
   "cell_type": "markdown",
   "metadata": {},
   "source": [
    "The notebooks assume knowledge of python, pandas, numpy, and matplotlib.  The examples in here will not explain all the use cases for those libraries but rather assumes that there is at least beginner/intermediate knowledge of those libraries."
   ]
  },
  {
   "cell_type": "markdown",
   "metadata": {},
   "source": [
    "## What is a time series?"
   ]
  },
  {
   "cell_type": "markdown",
   "metadata": {},
   "source": [
    "A time series is a set of data that follows an index of time.  Typically the time index is successive and equally spaced, meaning that data points will exist every second, minute, hour, or whichever increment that makes sense for the data that is being analyzed. Sporadic time series data will not be discussed here.\n",
    "\n",
    "Time series data is made up of 3 components:\n",
    "\n",
    "1. Trend\n",
    "2. Seasonality\n",
    "3. Residuals\n",
    "\n",
    "For long term observations (2+ years), there is also a cyclical component.  Cyclical might be confused with seasonality but they typically aren't calendar based and are not fixed periods.  Housing markets can cyclical because there a periods of sellers' and buyers' markets.  When modeling, often times the cycle is part of the trend.\n",
    "\n"
   ]
  },
  {
   "cell_type": "markdown",
   "metadata": {},
   "source": [
    "## What can we do with time series?"
   ]
  },
  {
   "cell_type": "markdown",
   "metadata": {},
   "source": [
    "Time series can be used to measure cause and effect, analyze trends, and TRY to predict future data.  "
   ]
  },
  {
   "cell_type": "markdown",
   "metadata": {},
   "source": [
    "## Outline\n",
    "\n",
    "* [Stationarity](Stationarity.ipynb)\n",
    "* [Trend](Trend.ipynb)\n",
    "* [Seasonality](Seasonal Exploration.ipynb)\n",
    "* [Decomposition](Decomposition.ipynb)\n",
    "* Filtering  (Coming Soon)\n",
    "* Correlation  (Coming Soon)\n",
    "* Classification  (Coming Soon)\n",
    "* Outlier  (Coming Soon)\n",
    "* Anomaly Detection  (Coming Soon)\n",
    "* Space State Models  (Coming Soon)\n",
    "* Deep Learning  (Coming Soon)\n",
    "\n",
    "\n"
   ]
  },
  {
   "cell_type": "markdown",
   "metadata": {},
   "source": [
    "## References"
   ]
  },
  {
   "cell_type": "markdown",
   "metadata": {},
   "source": [
    "* PyData San Francisco 2016 - ARIMA Tutorial [notebooks](https://github.com/silicon-valley-data-science/pydata-sf-2016-arima-tutorial) [video](https://www.youtube.com/watch?v=tJ-O3hk1vRw)\n",
    "* Time Series Analysis - PyCon 2017 [notebooks](https://github.com/AileenNielsen/TimeSeriesAnalysisWithPython) [video](https://www.youtube.com/watch?v=zmfe2RaX-14)\n",
    "* [machinelearningmastery.com](http://machinelearningmastery.com/time-series-data-stationary-python/)\n",
    "* http://www.seanabu.com/2016/03/22/time-series-seasonal-ARIMA-model-in-python/\n",
    "* https://www.analyticsvidhya.com/blog/2016/02/time-series-forecasting-codes-python/\n",
    "* https://tomaugspurger.github.io/modern-7-timeseries.html\n",
    "* https://www.otexts.org/fpp\n",
    "* https://datascience.ibm.com/exchange/public/entry/view/815137c868b916821dec777bdc23013c\n",
    "* https://github.com/rlabbe/Kalman-and-Bayesian-Filters-in-Python"
   ]
  },
  {
   "cell_type": "code",
   "execution_count": null,
   "metadata": {
    "collapsed": true
   },
   "outputs": [],
   "source": []
  }
 ],
 "metadata": {
  "kernelspec": {
   "display_name": "Python 3",
   "language": "python",
   "name": "python3"
  },
  "language_info": {
   "codemirror_mode": {
    "name": "ipython",
    "version": 3
   },
   "file_extension": ".py",
   "mimetype": "text/x-python",
   "name": "python",
   "nbconvert_exporter": "python",
   "pygments_lexer": "ipython3",
   "version": "3.6.1"
  }
 },
 "nbformat": 4,
 "nbformat_minor": 2
}
